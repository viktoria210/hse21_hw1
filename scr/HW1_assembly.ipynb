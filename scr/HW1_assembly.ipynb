{
 "cells": [
  {
   "cell_type": "markdown",
   "id": "exterior-angel",
   "metadata": {},
   "source": [
    "# Анализ полученных скаффолдов"
   ]
  },
  {
   "cell_type": "code",
   "execution_count": 1,
   "id": "independent-portuguese",
   "metadata": {},
   "outputs": [],
   "source": [
    "#Импортируемые библиотеки\n",
    "from Bio.SeqRecord import SeqRecord\n",
    "from Bio.SeqIO import parse"
   ]
  },
  {
   "cell_type": "markdown",
   "id": "bronze-objective",
   "metadata": {},
   "source": [
    "### Функция подсчёта последовательностей (скаффолдов) для файлов расширения .fasta"
   ]
  },
  {
   "cell_type": "code",
   "execution_count": 20,
   "id": "australian-parent",
   "metadata": {},
   "outputs": [],
   "source": [
    "def seq_count(filename):\n",
    "    #определяем счетчик последоватеьностей\n",
    "    t = 0\n",
    "    \n",
    "    #открываем файл\n",
    "    file = open(filename)\n",
    "    \n",
    "    #метод parse () возвращает итеративный объект, который возвращает SeqRecord для каждой последовательности\n",
    "    # SeqRecord - структура, хранящая метаданные последовательности\n",
    "    for record in parse(file, \"fasta\"):\n",
    "        t += 1\n",
    "    #   print(record.id)\n",
    "    \n",
    "    return t"
   ]
  },
  {
   "cell_type": "markdown",
   "id": "computational-cemetery",
   "metadata": {},
   "source": [
    "### Функция вычисления общей длины последовательности (скаффолда)"
   ]
  },
  {
   "cell_type": "code",
   "execution_count": 40,
   "id": "collective-demonstration",
   "metadata": {},
   "outputs": [],
   "source": [
    "def total_length(filename):\n",
    "    length = 0\n",
    "    file = open(filename)\n",
    "    \n",
    "    #record.seq сама последовательность\n",
    "    for record in parse(file, \"fasta\"):\n",
    "        length += len(record.seq)\n",
    "        \n",
    "    return length"
   ]
  },
  {
   "cell_type": "markdown",
   "id": "outdoor-estate",
   "metadata": {},
   "source": [
    "### Функция расчёта длины самой длинной последовательности (скаффолда)"
   ]
  },
  {
   "cell_type": "code",
   "execution_count": 38,
   "id": "theoretical-reception",
   "metadata": {},
   "outputs": [],
   "source": [
    "def max_length(filename):\n",
    "    max_l = 0\n",
    "    file = open(filename)\n",
    "    \n",
    "    seq_iter = parse(file,'fasta') \n",
    "    max_seq = max(len(record.seq) for record in seq_iter) \n",
    "    \n",
    "    return max_seq"
   ]
  },
  {
   "cell_type": "markdown",
   "id": "national-picture",
   "metadata": {},
   "source": [
    "### Функция определения N50"
   ]
  },
  {
   "cell_type": "code",
   "execution_count": 47,
   "id": "everyday-funeral",
   "metadata": {},
   "outputs": [],
   "source": [
    "def N50(filename):\n",
    "    length = 0\n",
    "    len_N50 = 0\n",
    "    file = open(filename)\n",
    "    \n",
    "    seq_iter = parse(file,'fasta')  \n",
    "    for record in seq_iter:\n",
    "        sorted_seq = sorted(record.seq, key=sortByLength, reverse=True)\n",
    "    \n",
    "    for seq in sorted_seq:\n",
    "        print(seq)\n",
    "    \n",
    "   # for record in parse(file, \"fasta\"):\n",
    "   #     if 0.5 * total_length(filename) > length:\n",
    "   #         length += len(record.seq)\n",
    "   #        len_N50 = len(record.seq)\n",
    "    \n",
    "    return   #len_N50"
   ]
  },
  {
   "cell_type": "code",
   "execution_count": 41,
   "id": "guided-authority",
   "metadata": {},
   "outputs": [
    {
     "data": {
      "text/plain": [
       "3914468"
      ]
     },
     "execution_count": 41,
     "metadata": {},
     "output_type": "execute_result"
    }
   ],
   "source": [
    "total_length('scaffolds.fasta')"
   ]
  },
  {
   "cell_type": "code",
   "execution_count": 32,
   "id": "applicable-advocate",
   "metadata": {},
   "outputs": [
    {
     "name": "stdout",
     "output_type": "stream",
     "text": [
      "3925660\n"
     ]
    }
   ],
   "source": [
    "total_length('contigs.fasta')"
   ]
  },
  {
   "cell_type": "code",
   "execution_count": 33,
   "id": "vulnerable-attitude",
   "metadata": {},
   "outputs": [
    {
     "name": "stdout",
     "output_type": "stream",
     "text": [
      "3875016\n"
     ]
    }
   ],
   "source": [
    "total_length('longest.fasta')"
   ]
  },
  {
   "cell_type": "code",
   "execution_count": 39,
   "id": "anticipated-mailing",
   "metadata": {},
   "outputs": [
    {
     "name": "stdout",
     "output_type": "stream",
     "text": [
      "3875016\n"
     ]
    }
   ],
   "source": [
    "max_length('scaffolds.fasta')"
   ]
  },
  {
   "cell_type": "code",
   "execution_count": 48,
   "id": "blond-pontiac",
   "metadata": {},
   "outputs": [
    {
     "ename": "NameError",
     "evalue": "name 'sortByLength' is not defined",
     "output_type": "error",
     "traceback": [
      "\u001b[1;31m---------------------------------------------------------------------------\u001b[0m",
      "\u001b[1;31mNameError\u001b[0m                                 Traceback (most recent call last)",
      "\u001b[1;32m<ipython-input-48-b2466d3923a7>\u001b[0m in \u001b[0;36m<module>\u001b[1;34m\u001b[0m\n\u001b[1;32m----> 1\u001b[1;33m \u001b[0mN50\u001b[0m\u001b[1;33m(\u001b[0m\u001b[1;34m'test2.fasta'\u001b[0m\u001b[1;33m)\u001b[0m\u001b[1;33m\u001b[0m\u001b[1;33m\u001b[0m\u001b[0m\n\u001b[0m",
      "\u001b[1;32m<ipython-input-47-f483ca4dafc2>\u001b[0m in \u001b[0;36mN50\u001b[1;34m(filename)\u001b[0m\n\u001b[0;32m      6\u001b[0m     \u001b[0mseq_iter\u001b[0m \u001b[1;33m=\u001b[0m \u001b[0mparse\u001b[0m\u001b[1;33m(\u001b[0m\u001b[0mfile\u001b[0m\u001b[1;33m,\u001b[0m\u001b[1;34m'fasta'\u001b[0m\u001b[1;33m)\u001b[0m\u001b[1;33m\u001b[0m\u001b[1;33m\u001b[0m\u001b[0m\n\u001b[0;32m      7\u001b[0m     \u001b[1;32mfor\u001b[0m \u001b[0mrecord\u001b[0m \u001b[1;32min\u001b[0m \u001b[0mseq_iter\u001b[0m\u001b[1;33m:\u001b[0m\u001b[1;33m\u001b[0m\u001b[1;33m\u001b[0m\u001b[0m\n\u001b[1;32m----> 8\u001b[1;33m         \u001b[0msorted_seq\u001b[0m \u001b[1;33m=\u001b[0m \u001b[0msorted\u001b[0m\u001b[1;33m(\u001b[0m\u001b[0mrecord\u001b[0m\u001b[1;33m.\u001b[0m\u001b[0mseq\u001b[0m\u001b[1;33m,\u001b[0m \u001b[0mkey\u001b[0m\u001b[1;33m=\u001b[0m\u001b[0msortByLength\u001b[0m\u001b[1;33m,\u001b[0m \u001b[0mreverse\u001b[0m\u001b[1;33m=\u001b[0m\u001b[1;32mTrue\u001b[0m\u001b[1;33m)\u001b[0m\u001b[1;33m\u001b[0m\u001b[1;33m\u001b[0m\u001b[0m\n\u001b[0m\u001b[0;32m      9\u001b[0m \u001b[1;33m\u001b[0m\u001b[0m\n\u001b[0;32m     10\u001b[0m     \u001b[1;32mfor\u001b[0m \u001b[0mseq\u001b[0m \u001b[1;32min\u001b[0m \u001b[0msorted_seq\u001b[0m\u001b[1;33m:\u001b[0m\u001b[1;33m\u001b[0m\u001b[1;33m\u001b[0m\u001b[0m\n",
      "\u001b[1;31mNameError\u001b[0m: name 'sortByLength' is not defined"
     ]
    }
   ],
   "source": [
    "N50('test2.fasta')"
   ]
  },
  {
   "cell_type": "code",
   "execution_count": null,
   "id": "accredited-packing",
   "metadata": {},
   "outputs": [],
   "source": []
  }
 ],
 "metadata": {
  "kernelspec": {
   "display_name": "Python 3",
   "language": "python",
   "name": "python3"
  },
  "language_info": {
   "codemirror_mode": {
    "name": "ipython",
    "version": 3
   },
   "file_extension": ".py",
   "mimetype": "text/x-python",
   "name": "python",
   "nbconvert_exporter": "python",
   "pygments_lexer": "ipython3",
   "version": "3.9.2"
  }
 },
 "nbformat": 4,
 "nbformat_minor": 5
}
